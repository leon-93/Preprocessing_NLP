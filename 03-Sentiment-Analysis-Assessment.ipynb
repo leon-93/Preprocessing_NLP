{
 "cells": [
  {
   "cell_type": "markdown",
   "metadata": {},
   "source": [
    "# Évaluation de l'analyse des sentiments - Solution\n",
    "\n",
    "## Tâche #1 : Effectuer une arithmétique vectorielle sur vos propres mots\n",
    "Écrivez un code qui évalue l'arithmétique vectorielle sur votre propre ensemble de mots apparentés. L'objectif est de se rapprocher le plus possible d'un mot attendu."
   ]
  },
  {
   "cell_type": "code",
   "execution_count": 1,
   "metadata": {},
   "outputs": [],
   "source": [
    "# Import spaCy and load the language library. Remember to use a larger model!\n",
    "\n",
    "import spacy\n",
    "nlp = spacy.load(\"en_core_web_md\")\n"
   ]
  },
  {
   "cell_type": "code",
   "execution_count": 2,
   "metadata": {},
   "outputs": [
    {
     "name": "stdout",
     "output_type": "stream",
     "text": [
      "Vector for king: [-1.1296e-01 -4.1865e+00 -1.8453e+00  3.0781e-01  2.4956e+00  9.6267e-01\n",
      " -1.8161e+00  4.4655e+00 -2.8210e+00  9.7090e-01  1.3542e+01  4.3195e-01\n",
      " -5.3098e+00  4.7098e+00  2.9030e+00  1.5588e+00  6.0064e+00 -3.0345e+00\n",
      "  1.0626e+00 -7.7197e-01 -5.4771e+00 -9.7380e-01 -4.4345e+00  5.8367e+00\n",
      "  2.4302e+00 -3.9408e+00 -9.1862e-01 -4.9124e+00  1.4591e+00 -7.2772e-01\n",
      "  3.4957e+00 -4.0077e+00 -1.8354e+00 -4.1052e+00  4.9211e+00 -9.7053e-01\n",
      "  1.9223e+00  5.2605e+00  1.6086e+00  7.1328e-01 -1.2146e+00 -1.9869e+00\n",
      "  8.0265e-01  2.9298e+00  7.2985e-01 -6.2892e-01 -1.7082e+00  1.9893e+00\n",
      "  4.7529e-01  3.2264e+00 -3.9215e+00  4.6556e+00  1.3475e+00 -1.0979e+00\n",
      " -3.0365e+00  1.5815e+00  2.2835e+00 -4.0616e+00  2.5730e+00  4.0618e+00\n",
      "  9.5438e-01 -6.2563e+00  5.6463e+00 -3.8933e+00  4.4076e+00  2.0517e+00\n",
      " -6.6906e+00 -6.9448e+00  6.0371e+00  9.3081e-01  1.5180e+00  2.3974e+00\n",
      " -3.8043e+00 -4.3941e+00 -3.6979e+00  2.9489e+00 -8.9735e+00  9.5273e+00\n",
      " -6.4149e-01  2.2565e+00 -7.2062e+00 -1.0078e+00 -4.4381e+00  2.0424e+00\n",
      " -6.6736e-01  4.3500e+00 -1.6199e+00  3.1975e+00 -1.2065e+00 -6.5684e-01\n",
      "  7.5759e-01 -1.6033e+00  2.5450e+00 -5.4999e+00 -1.8909e+00 -1.2985e-02\n",
      "  2.6703e+00  5.4623e-01 -2.4504e+00 -4.4326e-01 -1.7250e+00  9.1585e-01\n",
      "  7.5243e+00 -5.8451e-01  3.4550e+00  3.4817e+00 -4.1599e+00 -5.5125e-01\n",
      "  2.7681e-02 -3.1687e+00 -4.8459e+00  7.9108e+00 -1.7062e+00 -2.6731e+00\n",
      "  9.7841e+00  3.8851e+00 -3.7930e+00 -5.2979e-01  6.6191e-01 -9.7232e-01\n",
      " -9.4692e-01 -4.4918e+00  1.0932e+00 -4.3751e+00  1.3182e-02 -1.0243e+01\n",
      "  4.7973e+00 -8.7426e+00  2.5479e+00  2.3454e+00 -6.4140e+00  7.3875e-01\n",
      "  5.8565e+00 -2.5964e-01  1.6558e+00 -3.1353e+00 -6.6752e+00  1.0550e+00\n",
      "  1.7017e+00 -3.8360e+00 -1.1980e+01 -1.3750e+00 -1.9261e+00  3.1267e+00\n",
      "  3.2874e+00 -2.8928e+00 -1.0893e+01  4.2848e+00 -4.0890e-02 -5.9565e-01\n",
      " -3.3473e-02  1.6832e+00  2.1454e-01  7.2849e+00  2.8116e+00  2.5708e+00\n",
      " -3.9823e-01 -1.7257e+00 -6.1063e+00 -4.2618e+00 -3.3886e+00 -9.2663e+00\n",
      "  1.7600e-01 -3.3873e-02 -3.7070e+00 -9.1995e+00 -7.1594e+00 -6.0189e-01\n",
      " -7.2560e-01  1.5342e+00  5.1083e+00  2.4373e+00 -3.8012e+00 -2.1752e-01\n",
      "  2.9503e+00 -2.5551e+00  4.9827e-01  8.6823e-01 -4.3449e+00 -4.3821e+00\n",
      "  3.4993e+00 -1.9518e+00  2.2036e+00 -6.6526e-01  7.1015e+00  3.6784e+00\n",
      "  2.6251e-01  1.5379e+00 -8.1950e-01  1.1065e+00  3.3167e+00 -5.9392e+00\n",
      " -4.0191e+00  2.6496e+00  2.3168e+00 -8.5681e-02 -3.5059e+00  1.5915e+00\n",
      " -3.1831e-01  6.9366e+00  3.8439e+00  9.4076e-01 -7.5424e+00  2.7847e+00\n",
      " -2.2814e+00 -4.2487e+00 -2.6604e-01  3.7954e+00 -3.6526e+00  4.3823e+00\n",
      " -2.6506e+00  3.5298e+00  2.2597e+00  6.3055e+00 -7.0194e-01  4.1565e+00\n",
      "  8.2306e+00  5.7675e-01  4.3596e-01 -8.8400e+00 -3.0249e+00  4.0032e+00\n",
      "  2.4232e+00  6.9885e+00 -2.5906e-01 -4.2059e+00  1.2643e+00  1.0110e+01\n",
      "  9.7016e-01  2.2963e+00 -1.2802e+00 -1.4447e+00 -3.4386e+00  5.6555e+00\n",
      "  3.3911e+00  6.9418e+00 -6.8705e+00 -8.1536e-01 -7.2334e+00  3.0509e+00\n",
      "  8.7676e-01  6.4216e+00 -3.1655e+00 -1.5308e+00 -1.1056e+00 -5.0426e+00\n",
      "  4.6801e+00  4.6812e+00  4.0401e+00 -3.7289e-01  6.7437e-01 -8.6660e+00\n",
      " -9.9656e+00  2.4979e+00 -1.4783e-01 -5.6301e+00  4.5542e+00  4.8165e+00\n",
      " -2.2055e-01  4.5169e+00  1.7496e+00  2.9019e-01 -1.1683e+00 -4.3981e-01\n",
      "  2.3469e+00 -4.3521e-02  6.3715e-01  5.8259e-01 -8.5701e+00  4.6419e+00\n",
      "  2.3809e+00 -1.9273e-01 -6.9772e+00  7.6172e-01 -6.3895e-01 -3.3769e+00\n",
      "  6.1265e+00 -1.9695e+00 -2.3404e+00  6.6789e+00 -3.5265e+00 -3.3883e+00\n",
      "  6.1372e+00  4.5550e+00  6.0957e+00 -2.2007e-01  6.2087e-01  2.5527e+00\n",
      " -4.5590e+00 -2.8429e+00  2.0645e+00 -1.6221e+00 -2.8171e+00 -2.9680e+00\n",
      "  1.3651e+00  3.6137e+00 -3.2096e-01 -1.9346e+00 -4.8738e+00  2.5565e+00]\n",
      "Vector for queen: [ 2.167      0.29991   -3.1277    -2.7817    -0.26743    3.0804\n",
      " -2.6528     0.59692    0.12359    4.8586     5.9099    -5.0363\n",
      " -0.92574    0.24834    0.99726   -1.4138    -1.6813    -2.3217\n",
      "  2.239     -2.406     -3.1548    -0.31535    0.63494    2.6102\n",
      "  0.029033   0.36093    0.82687   -0.046114   0.86223   -1.539\n",
      " -1.3586    -4.2778     0.92605   -3.623     -0.20905    0.40445\n",
      " -0.51169   -0.18221   -0.45019    1.6452    -0.21377   -0.013464\n",
      "  1.3225     2.6444     2.8484    -1.8366    -1.6336     2.3608\n",
      "  1.8614     0.62935   -1.7363    -1.2249     0.012297  -0.23621\n",
      "  0.40521   -0.65902   -2.3748    -3.9021     0.16969    5.1174\n",
      " -0.60783   -3.2307     2.2142    -0.09337   -0.64347   -2.0623\n",
      " -3.5153    -3.5514     3.1468     2.199     -1.9324     1.7778\n",
      " -0.98875   -3.8789    -1.6005     3.1626    -0.85008    4.248\n",
      "  1.3081     5.5981    -2.3599    -1.4777     0.070376  -2.6391\n",
      "  1.8811    -0.32252    1.0728     3.1274    -2.8972    -1.4292\n",
      "  0.97709    0.24257    3.176     -1.7642    -4.3298     1.0399\n",
      "  3.9173     1.5171    -1.6307    -1.3717    -2.2272     2.2516\n",
      "  0.87128    1.6893     0.36115   -0.24849   -2.1259     5.6562\n",
      "  0.44488   -0.65038   -3.7956     5.6118     1.6489    -2.5152\n",
      "  6.4116    -2.7203    -2.4978    -2.4328     0.79147   -2.1373\n",
      "  0.1531    -0.11298   -0.019034  -1.8828    -0.39994   -4.7997\n",
      " -0.31418   -4.2527    -1.4356     1.9432    -0.62276   -0.19423\n",
      " -0.16307    0.077675   0.0097314 -0.96013    0.38501   -1.5418\n",
      " -1.9436    -1.6795    -7.9544     0.046187   1.1842     2.9252\n",
      " -0.12064   -2.5592    -3.4564     3.3279     1.4566    -0.26747\n",
      " -1.2208     1.5311     2.078      0.97777   -0.31091    1.5046\n",
      " -2.0353     0.32025   -1.5669     0.82247   -2.0084    -6.0252\n",
      " -4.3223    -0.88354   -3.8267    -5.3679     0.04028   -3.8084\n",
      " -1.4745    -0.54509    4.421     -3.1668    -0.063313   1.24\n",
      "  0.49723   -4.7846    -1.8343    -1.3872     1.1227    -1.6363\n",
      "  1.2152     1.3122     0.9896    -3.2111     0.78302    2.7014\n",
      "  1.1404     0.39821   -1.5174     1.1302     1.8146    -2.3713\n",
      " -4.4074     0.84996   -0.89355   -1.0498     1.6979     3.7127\n",
      " -2.2946     2.1826     2.7204    -1.2092    -2.9457     0.82411\n",
      " -6.5106    -3.0997     4.2783    -1.9091    -1.5795     1.2377\n",
      "  0.17789    0.59716    1.3507     4.194     -0.18735    2.221\n",
      "  1.1118     0.37114    0.40229   -2.2347    -0.60677   -5.2076\n",
      "  1.6655     7.6159    -1.8159    -1.99       3.0499     0.0127\n",
      "  0.11955    2.6081    -2.6869    -0.21315   -1.5071     1.6894\n",
      " -0.061009   2.7747    -3.9287    -0.37922   -1.2262     3.0221\n",
      "  0.42178    5.0441    -4.9504    -1.7701     3.5365    -4.2432\n",
      "  1.8922     3.3551     1.1064     1.03       2.5214    -0.11403\n",
      "  0.72351    1.5749    -1.1543    -5.0317     4.3374     5.6829\n",
      "  1.5816    -1.3539     1.2004    -3.6165    -1.4561    -0.40638\n",
      " -0.21109   -1.5671     0.26342   -0.21204   -6.1106     7.7494\n",
      "  0.20884   -0.52777   -7.2462     0.84291   -0.45407   -1.8387\n",
      "  0.85934    0.061233  -1.9492     5.4187    -3.3688    -1.4679\n",
      "  3.1577     1.1711     3.688      0.42717   -0.14362    2.3758\n",
      "  1.2226    -2.9312     3.2187     1.6753     0.025952  -1.2207\n",
      "  0.97648    2.2651     0.30664    2.134     -7.0684     1.018    ]\n",
      "Vector for woman: [ 7.6548e-01  1.0758e+00 -1.6330e+00 -2.9980e+00 -8.2636e-01  2.0950e-01\n",
      " -1.4199e+00  3.8564e+00 -1.2070e+00  7.5657e+00  4.4087e+00 -3.7819e+00\n",
      "  5.3185e-01  9.0558e-01  1.9739e+00  3.5216e+00 -2.2746e+00 -6.5413e+00\n",
      "  6.0315e-01  3.3254e+00 -2.9903e+00  4.4736e+00 -2.3149e+00 -2.9781e+00\n",
      "  6.1076e-01 -5.7881e+00 -3.5710e+00  1.3417e-02  2.4521e+00 -6.6032e+00\n",
      "  9.9794e-01 -1.0460e+00 -2.0240e-01 -4.3673e-01 -4.0816e+00 -2.9193e-02\n",
      " -4.7495e+00  8.8663e-01 -3.8972e+00 -1.1823e+00 -5.6772e+00 -4.3144e+00\n",
      "  2.5646e+00  4.9546e+00  4.0343e+00 -8.9228e-01 -1.7572e+00  2.3070e+00\n",
      "  2.7924e+00  7.5888e+00  6.3978e-01  4.4256e+00  9.9467e-01 -1.6670e+00\n",
      "  3.8060e-01  1.1449e-01  3.9714e+00 -4.6794e+00  1.3991e+00  2.2833e+00\n",
      " -3.8052e+00 -1.4284e+00 -5.1769e+00 -2.5785e-01 -6.8887e-01 -2.7067e+00\n",
      " -8.1043e-01 -8.8683e+00 -1.0124e+00  2.2197e+00  7.1522e-01  1.4752e+00\n",
      " -5.9671e-01  1.4267e+00  1.1901e-01 -9.1770e-01 -4.1479e-02  5.4174e+00\n",
      " -2.9834e-01 -7.1310e-01 -5.6491e-01 -9.1195e-01  9.0149e-01 -4.0819e+00\n",
      "  2.1152e+00  2.8226e+00 -2.4650e+00  2.2028e+00 -1.9868e+00 -1.2074e+00\n",
      "  4.3258e+00 -2.3912e+00  6.7443e+00 -6.0418e+00 -2.6027e-01  1.5467e-01\n",
      "  1.1870e+00  2.1243e+00  2.3640e+00 -5.1951e+00  4.9609e+00  1.4622e+00\n",
      "  3.2485e-01  4.4748e-01 -4.0943e+00 -1.4156e+00  1.5760e+00 -1.5776e+00\n",
      "  3.3674e-01 -2.0243e+00 -3.2238e-01  1.0421e+00  1.5683e+00 -2.2045e-01\n",
      "  1.0556e+01  1.0415e+00 -1.9220e+00 -3.5201e+00 -1.0062e+00 -1.9259e+00\n",
      "  4.4171e+00 -1.9648e+00 -3.3688e+00  3.4528e+00 -3.0295e+00 -5.4010e+00\n",
      "  5.4649e+00  2.8906e+00  2.8523e+00  2.9614e+00  1.2065e+00 -4.3199e+00\n",
      "  1.6012e+00 -2.6279e+00 -3.6493e+00  3.5170e+00  7.0180e-01  2.8837e-01\n",
      "  9.2308e-01  4.3778e+00 -7.3194e+00 -1.6910e+00  2.7032e+00  2.9714e+00\n",
      " -6.3219e-01 -2.3922e+00 -6.4678e+00  3.9545e-01  2.7534e+00 -4.7451e-03\n",
      "  3.0811e+00  4.5758e-01  6.1878e-01  3.0226e-01  4.2832e-01  1.3341e+00\n",
      "  1.8306e+00 -9.3971e-01 -3.8610e+00 -3.0770e+00  3.7657e-01 -6.6276e+00\n",
      " -2.8050e+00  3.2971e+00 -3.3347e+00 -1.9298e+00  6.1638e-01 -3.9445e-01\n",
      "  2.8411e-02 -4.6453e-01  1.9415e+00  3.9561e+00  2.2576e+00  5.3883e+00\n",
      "  3.1675e+00 -2.2229e+00 -2.5498e+00  3.2325e-01 -1.1571e+00 -5.6133e+00\n",
      "  3.1013e+00 -2.1894e+00  3.8923e+00 -1.3043e+00 -3.2031e+00  3.4002e+00\n",
      "  1.9006e+00  3.0239e-01  3.2562e+00  5.5611e-02 -1.3564e+00 -8.5887e-02\n",
      " -2.0441e+00  1.5003e+00  1.6982e+00 -3.1285e+00 -1.0971e+00  7.9682e+00\n",
      " -2.0142e+00  8.4409e-01  4.9325e+00 -1.6377e+00 -1.5798e+00 -4.1443e-01\n",
      " -3.5039e+00 -1.0626e+00 -5.6180e-01 -4.5181e+00 -2.1612e+00 -6.1026e+00\n",
      "  1.5364e+00 -1.2599e+00 -8.5131e-01  3.1297e+00 -2.0852e+00  2.1542e-01\n",
      " -1.3680e+00  1.6755e+00 -7.6752e-01 -6.7232e-02  3.9648e-01 -5.2490e+00\n",
      "  3.6684e+00  8.3696e+00 -1.8239e+00  1.3034e+00 -2.6046e+00 -4.4155e+00\n",
      "  2.7435e+00 -2.0606e+00 -1.0542e+00 -1.2381e+00 -8.4161e-01 -1.8293e+00\n",
      " -2.7918e+00  2.3065e+00 -2.8672e+00  4.5719e+00 -1.3355e+00  3.6310e+00\n",
      "  5.5886e-01  3.8642e+00  5.6580e+00 -3.7944e+00  3.9429e+00 -1.8724e+00\n",
      " -2.0080e+00  2.5263e-02  5.9915e+00  3.0832e+00  6.4687e-01 -1.4115e+00\n",
      " -9.9566e-01 -1.0698e+00 -1.1485e+00  5.1931e+00  3.7333e+00  3.5309e+00\n",
      " -2.5774e+00  9.6262e-01  2.1506e+00 -1.0075e+00  5.1373e-02  3.7103e-02\n",
      "  8.7671e-02 -3.8155e+00  6.4988e-01 -1.0451e+00 -7.4627e+00  3.4307e+00\n",
      "  2.4882e+00 -2.2151e+00 -6.4933e+00  7.8517e-02 -6.4019e-01 -2.3701e+00\n",
      " -5.1003e-01 -9.9254e-01 -7.8311e+00  7.3922e+00 -1.6629e+00 -5.1963e+00\n",
      "  2.3823e+00 -2.2800e-01  6.0648e+00 -5.2621e-01 -9.1380e-01  2.4372e+00\n",
      " -2.0864e+00 -4.0494e+00  3.8602e+00  2.6116e+00 -1.2394e+00 -1.6016e+00\n",
      " -1.2406e+00 -2.8561e+00  3.8157e+00  4.3272e+00 -2.0483e+00  2.3086e+00]\n"
     ]
    }
   ],
   "source": [
    "# Choose the words you wish to compare, and obtain their vectors\n",
    "word1 = \"king\"\n",
    "word2 = \"queen\"\n",
    "word3 = \"woman\"\n",
    "# Obtain the vectors for the chosen words\n",
    "word1_vector = nlp(word1).vector\n",
    "word2_vector = nlp(word2).vector\n",
    "word3_vector = nlp(word3).vector\n",
    "\n",
    "# Print the vectors\n",
    "print(\"Vector for\", word1 + \":\", word1_vector)\n",
    "print(\"Vector for\", word2 + \":\", word2_vector)\n",
    "print(\"Vector for\", word3 + \":\", word3_vector)\n",
    "\n",
    "\n",
    "\n"
   ]
  },
  {
   "cell_type": "code",
   "execution_count": 3,
   "metadata": {},
   "outputs": [],
   "source": [
    "# Import spatial and define a cosine_similarity function\n",
    "\n",
    "from scipy.spatial import distance\n",
    "\n",
    "def similarite_cosinus(vec1, vec2):\n",
    "    \n",
    "    return 1 - distance.cosine(vec1, vec2)\n"
   ]
  },
  {
   "cell_type": "code",
   "execution_count": 7,
   "metadata": {},
   "outputs": [],
   "source": [
    "# Write an expression for vector arithmetic\n",
    "# For example: new_vector = word1 - word2 + word3\n",
    "new_vector = word1_vector - word2_vector + word3_vector\n"
   ]
  },
  {
   "cell_type": "code",
   "execution_count": 24,
   "metadata": {},
   "outputs": [
    {
     "ename": "AttributeError",
     "evalue": "'spacy.vectors.Vectors' object has no attribute 'similarity'",
     "output_type": "error",
     "traceback": [
      "\u001b[1;31m---------------------------------------------------------------------------\u001b[0m",
      "\u001b[1;31mAttributeError\u001b[0m                            Traceback (most recent call last)",
      "\u001b[1;32m~\\AppData\\Local\\Temp\\ipykernel_32424\\2428522179.py\u001b[0m in \u001b[0;36m<module>\u001b[1;34m\u001b[0m\n\u001b[0;32m      1\u001b[0m \u001b[1;31m# List the top ten closest vectors in the vocabulary to the result of the expression above\u001b[0m\u001b[1;33m\u001b[0m\u001b[1;33m\u001b[0m\u001b[0m\n\u001b[0;32m      2\u001b[0m \u001b[1;33m\u001b[0m\u001b[0m\n\u001b[1;32m----> 3\u001b[1;33m most_similar = nlp.vocab.vectors.similarity(\n\u001b[0m\u001b[0;32m      4\u001b[0m     \u001b[0mnew_vector\u001b[0m\u001b[1;33m,\u001b[0m \u001b[0mn\u001b[0m\u001b[1;33m=\u001b[0m\u001b[1;36m10\u001b[0m\u001b[1;33m\u001b[0m\u001b[1;33m\u001b[0m\u001b[0m\n\u001b[0;32m      5\u001b[0m )\n",
      "\u001b[1;31mAttributeError\u001b[0m: 'spacy.vectors.Vectors' object has no attribute 'similarity'"
     ]
    }
   ],
   "source": [
    "# List the top ten closest vectors in the vocabulary to the result of the expression above\n",
    "\n",
    "most_similar = nlp.vocab.vectors.most_similar(\n",
    "    new_vector.reshape(1, -1), n=10\n",
    ")\n",
    "\n",
    "# Afficher les dix vecteurs les plus proches\n",
    "for word_id_tuple in most_similar:\n",
    "    word_id = word_id_tuple[0]\n",
    "    word_vector = nlp.vocab.vectors[word_id]\n",
    "    word = nlp.vocab.strings[word_id]\n",
    "    similarity = similarite_cosinus(word_vector, new_vector)\n",
    "    print(word, similarity)\n",
    "\n",
    "\n",
    "\n",
    "\n",
    "\n",
    "\n"
   ]
  },
  {
   "cell_type": "markdown",
   "metadata": {},
   "source": [
    "#### DÉFI : Écrire une fonction qui prend 3 chaînes de caractères, effectue l'arithmétique a-b+c et renvoie un résultat de dix premiers."
   ]
  },
  {
   "cell_type": "code",
   "execution_count": 21,
   "metadata": {},
   "outputs": [],
   "source": [
    "def vector_math(a,b,c):\n",
    "    nlp = spacy.load(\"en_core_web_md\")\n",
    "\n",
    "    \n",
    "    # Convertir les chaînes de caractères en tokens spaCy\n",
    "    token_a = nlp(a)\n",
    "    token_b = nlp(b)\n",
    "    token_c = nlp(c)\n",
    "    \n",
    "    result_vector = token_a.vector - token_b.vector + token_c.vector\n",
    "    \n",
    "    # Trouver les dix mots les plus proches du résultat\n",
    "    most_similar = nlp.vocab.vectors.most_similar(\n",
    "        result_vector.reshape(1, -1), n=10\n",
    "    )\n",
    "    \n",
    "    # Récupérer les mots les plus proches et leur similarité respective\n",
    "    similar_words = [(nlp.vocab.strings[word_id], similarity) for word_id, similarity in most_similar[0]]\n",
    "    \n",
    "    return similar_words\n",
    "    \n",
    "    \n",
    "    \n",
    "    \n",
    "    \n",
    "    \n",
    "    \n",
    "    \n",
    "    \n",
    "    \n",
    "    \n",
    "    \n",
    "    "
   ]
  },
  {
   "cell_type": "code",
   "execution_count": 22,
   "metadata": {},
   "outputs": [
    {
     "ename": "ValueError",
     "evalue": "too many values to unpack (expected 2)",
     "output_type": "error",
     "traceback": [
      "\u001b[1;31m---------------------------------------------------------------------------\u001b[0m",
      "\u001b[1;31mValueError\u001b[0m                                Traceback (most recent call last)",
      "\u001b[1;32m~\\AppData\\Local\\Temp\\ipykernel_32424\\2145839620.py\u001b[0m in \u001b[0;36m<module>\u001b[1;34m\u001b[0m\n\u001b[0;32m      1\u001b[0m \u001b[1;31m# Test the function on known words:\u001b[0m\u001b[1;33m\u001b[0m\u001b[1;33m\u001b[0m\u001b[0m\n\u001b[1;32m----> 2\u001b[1;33m \u001b[0mvector_math\u001b[0m\u001b[1;33m(\u001b[0m\u001b[1;34m'king'\u001b[0m\u001b[1;33m,\u001b[0m\u001b[1;34m'man'\u001b[0m\u001b[1;33m,\u001b[0m\u001b[1;34m'woman'\u001b[0m\u001b[1;33m)\u001b[0m\u001b[1;33m\u001b[0m\u001b[1;33m\u001b[0m\u001b[0m\n\u001b[0m",
      "\u001b[1;32m~\\AppData\\Local\\Temp\\ipykernel_32424\\4176230097.py\u001b[0m in \u001b[0;36mvector_math\u001b[1;34m(a, b, c)\u001b[0m\n\u001b[0;32m     16\u001b[0m \u001b[1;33m\u001b[0m\u001b[0m\n\u001b[0;32m     17\u001b[0m     \u001b[1;31m# Récupérer les mots les plus proches et leur similarité respective\u001b[0m\u001b[1;33m\u001b[0m\u001b[1;33m\u001b[0m\u001b[0m\n\u001b[1;32m---> 18\u001b[1;33m     \u001b[0msimilar_words\u001b[0m \u001b[1;33m=\u001b[0m \u001b[1;33m[\u001b[0m\u001b[1;33m(\u001b[0m\u001b[0mnlp\u001b[0m\u001b[1;33m.\u001b[0m\u001b[0mvocab\u001b[0m\u001b[1;33m.\u001b[0m\u001b[0mstrings\u001b[0m\u001b[1;33m[\u001b[0m\u001b[0mword_id\u001b[0m\u001b[1;33m]\u001b[0m\u001b[1;33m,\u001b[0m \u001b[0msimilarity\u001b[0m\u001b[1;33m)\u001b[0m \u001b[1;32mfor\u001b[0m \u001b[0mword_id\u001b[0m\u001b[1;33m,\u001b[0m \u001b[0msimilarity\u001b[0m \u001b[1;32min\u001b[0m \u001b[0mmost_similar\u001b[0m\u001b[1;33m[\u001b[0m\u001b[1;36m0\u001b[0m\u001b[1;33m]\u001b[0m\u001b[1;33m]\u001b[0m\u001b[1;33m\u001b[0m\u001b[1;33m\u001b[0m\u001b[0m\n\u001b[0m\u001b[0;32m     19\u001b[0m \u001b[1;33m\u001b[0m\u001b[0m\n\u001b[0;32m     20\u001b[0m     \u001b[1;32mreturn\u001b[0m \u001b[0msimilar_words\u001b[0m\u001b[1;33m\u001b[0m\u001b[1;33m\u001b[0m\u001b[0m\n",
      "\u001b[1;32m~\\AppData\\Local\\Temp\\ipykernel_32424\\4176230097.py\u001b[0m in \u001b[0;36m<listcomp>\u001b[1;34m(.0)\u001b[0m\n\u001b[0;32m     16\u001b[0m \u001b[1;33m\u001b[0m\u001b[0m\n\u001b[0;32m     17\u001b[0m     \u001b[1;31m# Récupérer les mots les plus proches et leur similarité respective\u001b[0m\u001b[1;33m\u001b[0m\u001b[1;33m\u001b[0m\u001b[0m\n\u001b[1;32m---> 18\u001b[1;33m     \u001b[0msimilar_words\u001b[0m \u001b[1;33m=\u001b[0m \u001b[1;33m[\u001b[0m\u001b[1;33m(\u001b[0m\u001b[0mnlp\u001b[0m\u001b[1;33m.\u001b[0m\u001b[0mvocab\u001b[0m\u001b[1;33m.\u001b[0m\u001b[0mstrings\u001b[0m\u001b[1;33m[\u001b[0m\u001b[0mword_id\u001b[0m\u001b[1;33m]\u001b[0m\u001b[1;33m,\u001b[0m \u001b[0msimilarity\u001b[0m\u001b[1;33m)\u001b[0m \u001b[1;32mfor\u001b[0m \u001b[0mword_id\u001b[0m\u001b[1;33m,\u001b[0m \u001b[0msimilarity\u001b[0m \u001b[1;32min\u001b[0m \u001b[0mmost_similar\u001b[0m\u001b[1;33m[\u001b[0m\u001b[1;36m0\u001b[0m\u001b[1;33m]\u001b[0m\u001b[1;33m]\u001b[0m\u001b[1;33m\u001b[0m\u001b[1;33m\u001b[0m\u001b[0m\n\u001b[0m\u001b[0;32m     19\u001b[0m \u001b[1;33m\u001b[0m\u001b[0m\n\u001b[0;32m     20\u001b[0m     \u001b[1;32mreturn\u001b[0m \u001b[0msimilar_words\u001b[0m\u001b[1;33m\u001b[0m\u001b[1;33m\u001b[0m\u001b[0m\n",
      "\u001b[1;31mValueError\u001b[0m: too many values to unpack (expected 2)"
     ]
    }
   ],
   "source": [
    "# Test the function on known words:\n",
    "vector_math('king','man','woman')"
   ]
  },
  {
   "cell_type": "markdown",
   "metadata": {},
   "source": [
    "## Tâche #2 : Effectuer une analyse de sentiment VADER sur votre propre commentaire\n",
    "Écrivez un code qui renvoie un ensemble de scores de polarité SentimentIntensityAnalyzer sur la base de votre propre critique écrite."
   ]
  },
  {
   "cell_type": "code",
   "execution_count": 25,
   "metadata": {},
   "outputs": [],
   "source": [
    "# Import SentimentIntensityAnalyzer and create an sid object\n",
    "from nltk.sentiment import SentimentIntensityAnalyzer\n",
    "\n",
    "sid = SentimentIntensityAnalyzer()\n",
    "\n",
    "\n"
   ]
  },
  {
   "cell_type": "code",
   "execution_count": 26,
   "metadata": {},
   "outputs": [],
   "source": [
    "# Write a review as one continuous string (multiple sentences are ok)\n",
    "review = 'I recently watched this movie and I have to say I was pleasantly surprised. The actors were incredible and really brought the characters to life. The story was captivating and full of unexpected twists. The special effects were stunning and added an extra dimension to the visual experience. The soundtrack was also remarkable and perfectly complemented the mood of the movie. Overall, I highly recommend this film to anyone looking for great entertainment with a compelling story and outstanding performances.'"
   ]
  },
  {
   "cell_type": "code",
   "execution_count": 27,
   "metadata": {},
   "outputs": [
    {
     "data": {
      "text/plain": [
       "{'neg': 0.0, 'neu': 0.655, 'pos': 0.345, 'compound': 0.9857}"
      ]
     },
     "execution_count": 27,
     "metadata": {},
     "output_type": "execute_result"
    }
   ],
   "source": [
    "# Obtain the sid scores for your review\n",
    "sid.polarity_scores(review)"
   ]
  },
  {
   "cell_type": "markdown",
   "metadata": {},
   "source": [
    "### DÉFI : Écrire une fonction qui prend en compte un avis et renvoie une note \"positive\", \"négative\" ou \"neutre\""
   ]
  },
  {
   "cell_type": "code",
   "execution_count": 28,
   "metadata": {},
   "outputs": [],
   "source": [
    "def review_rating(string):\n",
    "    # Create an instance of SentimentIntensityAnalyzer\n",
    "    sid = SentimentIntensityAnalyzer()\n",
    "    \n",
    "    # Analyze the sentiment of the review string\n",
    "    sentiment_score = sid.polarity_scores(string)\n",
    "    \n",
    "    # Return the compound sentiment score\n",
    "    return sentiment_score['compound']\n",
    "    \n",
    "    \n",
    "    \n",
    "    \n",
    "    \n",
    "    "
   ]
  },
  {
   "cell_type": "code",
   "execution_count": 29,
   "metadata": {},
   "outputs": [
    {
     "data": {
      "text/plain": [
       "0.9857"
      ]
     },
     "execution_count": 29,
     "metadata": {},
     "output_type": "execute_result"
    }
   ],
   "source": [
    "# Test the function on your review above:\n",
    "review_rating(review)"
   ]
  }
 ],
 "metadata": {
  "kernelspec": {
   "display_name": "Python 3 (ipykernel)",
   "language": "python",
   "name": "python3"
  },
  "language_info": {
   "codemirror_mode": {
    "name": "ipython",
    "version": 3
   },
   "file_extension": ".py",
   "mimetype": "text/x-python",
   "name": "python",
   "nbconvert_exporter": "python",
   "pygments_lexer": "ipython3",
   "version": "3.9.13"
  }
 },
 "nbformat": 4,
 "nbformat_minor": 2
}
